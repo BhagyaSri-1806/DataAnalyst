{
  "nbformat": 4,
  "nbformat_minor": 0,
  "metadata": {
    "colab": {
      "provenance": [],
      "authorship_tag": "ABX9TyOAtpCodPRlZGWEGtjz+X2h",
      "include_colab_link": true
    },
    "kernelspec": {
      "name": "python3",
      "display_name": "Python 3"
    },
    "language_info": {
      "name": "python"
    }
  },
  "cells": [
    {
      "cell_type": "markdown",
      "metadata": {
        "id": "view-in-github",
        "colab_type": "text"
      },
      "source": [
        "<a href=\"https://colab.research.google.com/github/BhagyaSri-1806/DataAnalyst/blob/main/DAY_6.ipynb\" target=\"_parent\"><img src=\"https://colab.research.google.com/assets/colab-badge.svg\" alt=\"Open In Colab\"/></a>"
      ]
    },
    {
      "cell_type": "code",
      "execution_count": null,
      "metadata": {
        "id": "l0IVOyv2IGzd"
      },
      "outputs": [],
      "source": [
        "import pandas as pd"
      ]
    },
    {
      "cell_type": "code",
      "source": [
        "import pandas as pd # imports the pandas library and assigns it to the alias 'pd'\n",
        "\n",
        "data = pd.read_csv('/content/real_2013_air.csv') # pd is now recognized and can be used\n"
      ],
      "metadata": {
        "id": "uiM70cuNIYxD"
      },
      "execution_count": 3,
      "outputs": []
    },
    {
      "cell_type": "code",
      "source": [
        "data.head()"
      ],
      "metadata": {
        "colab": {
          "base_uri": "https://localhost:8080/",
          "height": 206
        },
        "id": "P5gEbZMLIwVs",
        "outputId": "d5696722-34dd-4f7a-ca32-7b67e88f124f"
      },
      "execution_count": 4,
      "outputs": [
        {
          "output_type": "execute_result",
          "data": {
            "text/plain": [
              "     T    TM   Tm     SLP     H   VV    V    VM      PM 2.5\n",
              "0  NaN   NaN  NaN     NaN   NaN  NaN  NaN   NaN         NaN\n",
              "1  7.4   9.8  4.8  1017.6  93.0  0.5  4.3   9.4  219.720833\n",
              "2  NaN   NaN  NaN     NaN   NaN  NaN  NaN   NaN         NaN\n",
              "3  7.8  12.7  4.4  1018.5  87.0  0.6  4.4  11.1  182.187500\n",
              "4  NaN   NaN  NaN     NaN   NaN  NaN  NaN   NaN         NaN"
            ],
            "text/html": [
              "\n",
              "  <div id=\"df-637c2a50-f70b-41ec-ae9d-f306b5584b00\" class=\"colab-df-container\">\n",
              "    <div>\n",
              "<style scoped>\n",
              "    .dataframe tbody tr th:only-of-type {\n",
              "        vertical-align: middle;\n",
              "    }\n",
              "\n",
              "    .dataframe tbody tr th {\n",
              "        vertical-align: top;\n",
              "    }\n",
              "\n",
              "    .dataframe thead th {\n",
              "        text-align: right;\n",
              "    }\n",
              "</style>\n",
              "<table border=\"1\" class=\"dataframe\">\n",
              "  <thead>\n",
              "    <tr style=\"text-align: right;\">\n",
              "      <th></th>\n",
              "      <th>T</th>\n",
              "      <th>TM</th>\n",
              "      <th>Tm</th>\n",
              "      <th>SLP</th>\n",
              "      <th>H</th>\n",
              "      <th>VV</th>\n",
              "      <th>V</th>\n",
              "      <th>VM</th>\n",
              "      <th>PM 2.5</th>\n",
              "    </tr>\n",
              "  </thead>\n",
              "  <tbody>\n",
              "    <tr>\n",
              "      <th>0</th>\n",
              "      <td>NaN</td>\n",
              "      <td>NaN</td>\n",
              "      <td>NaN</td>\n",
              "      <td>NaN</td>\n",
              "      <td>NaN</td>\n",
              "      <td>NaN</td>\n",
              "      <td>NaN</td>\n",
              "      <td>NaN</td>\n",
              "      <td>NaN</td>\n",
              "    </tr>\n",
              "    <tr>\n",
              "      <th>1</th>\n",
              "      <td>7.4</td>\n",
              "      <td>9.8</td>\n",
              "      <td>4.8</td>\n",
              "      <td>1017.6</td>\n",
              "      <td>93.0</td>\n",
              "      <td>0.5</td>\n",
              "      <td>4.3</td>\n",
              "      <td>9.4</td>\n",
              "      <td>219.720833</td>\n",
              "    </tr>\n",
              "    <tr>\n",
              "      <th>2</th>\n",
              "      <td>NaN</td>\n",
              "      <td>NaN</td>\n",
              "      <td>NaN</td>\n",
              "      <td>NaN</td>\n",
              "      <td>NaN</td>\n",
              "      <td>NaN</td>\n",
              "      <td>NaN</td>\n",
              "      <td>NaN</td>\n",
              "      <td>NaN</td>\n",
              "    </tr>\n",
              "    <tr>\n",
              "      <th>3</th>\n",
              "      <td>7.8</td>\n",
              "      <td>12.7</td>\n",
              "      <td>4.4</td>\n",
              "      <td>1018.5</td>\n",
              "      <td>87.0</td>\n",
              "      <td>0.6</td>\n",
              "      <td>4.4</td>\n",
              "      <td>11.1</td>\n",
              "      <td>182.187500</td>\n",
              "    </tr>\n",
              "    <tr>\n",
              "      <th>4</th>\n",
              "      <td>NaN</td>\n",
              "      <td>NaN</td>\n",
              "      <td>NaN</td>\n",
              "      <td>NaN</td>\n",
              "      <td>NaN</td>\n",
              "      <td>NaN</td>\n",
              "      <td>NaN</td>\n",
              "      <td>NaN</td>\n",
              "      <td>NaN</td>\n",
              "    </tr>\n",
              "  </tbody>\n",
              "</table>\n",
              "</div>\n",
              "    <div class=\"colab-df-buttons\">\n",
              "\n",
              "  <div class=\"colab-df-container\">\n",
              "    <button class=\"colab-df-convert\" onclick=\"convertToInteractive('df-637c2a50-f70b-41ec-ae9d-f306b5584b00')\"\n",
              "            title=\"Convert this dataframe to an interactive table.\"\n",
              "            style=\"display:none;\">\n",
              "\n",
              "  <svg xmlns=\"http://www.w3.org/2000/svg\" height=\"24px\" viewBox=\"0 -960 960 960\">\n",
              "    <path d=\"M120-120v-720h720v720H120Zm60-500h600v-160H180v160Zm220 220h160v-160H400v160Zm0 220h160v-160H400v160ZM180-400h160v-160H180v160Zm440 0h160v-160H620v160ZM180-180h160v-160H180v160Zm440 0h160v-160H620v160Z\"/>\n",
              "  </svg>\n",
              "    </button>\n",
              "\n",
              "  <style>\n",
              "    .colab-df-container {\n",
              "      display:flex;\n",
              "      gap: 12px;\n",
              "    }\n",
              "\n",
              "    .colab-df-convert {\n",
              "      background-color: #E8F0FE;\n",
              "      border: none;\n",
              "      border-radius: 50%;\n",
              "      cursor: pointer;\n",
              "      display: none;\n",
              "      fill: #1967D2;\n",
              "      height: 32px;\n",
              "      padding: 0 0 0 0;\n",
              "      width: 32px;\n",
              "    }\n",
              "\n",
              "    .colab-df-convert:hover {\n",
              "      background-color: #E2EBFA;\n",
              "      box-shadow: 0px 1px 2px rgba(60, 64, 67, 0.3), 0px 1px 3px 1px rgba(60, 64, 67, 0.15);\n",
              "      fill: #174EA6;\n",
              "    }\n",
              "\n",
              "    .colab-df-buttons div {\n",
              "      margin-bottom: 4px;\n",
              "    }\n",
              "\n",
              "    [theme=dark] .colab-df-convert {\n",
              "      background-color: #3B4455;\n",
              "      fill: #D2E3FC;\n",
              "    }\n",
              "\n",
              "    [theme=dark] .colab-df-convert:hover {\n",
              "      background-color: #434B5C;\n",
              "      box-shadow: 0px 1px 3px 1px rgba(0, 0, 0, 0.15);\n",
              "      filter: drop-shadow(0px 1px 2px rgba(0, 0, 0, 0.3));\n",
              "      fill: #FFFFFF;\n",
              "    }\n",
              "  </style>\n",
              "\n",
              "    <script>\n",
              "      const buttonEl =\n",
              "        document.querySelector('#df-637c2a50-f70b-41ec-ae9d-f306b5584b00 button.colab-df-convert');\n",
              "      buttonEl.style.display =\n",
              "        google.colab.kernel.accessAllowed ? 'block' : 'none';\n",
              "\n",
              "      async function convertToInteractive(key) {\n",
              "        const element = document.querySelector('#df-637c2a50-f70b-41ec-ae9d-f306b5584b00');\n",
              "        const dataTable =\n",
              "          await google.colab.kernel.invokeFunction('convertToInteractive',\n",
              "                                                    [key], {});\n",
              "        if (!dataTable) return;\n",
              "\n",
              "        const docLinkHtml = 'Like what you see? Visit the ' +\n",
              "          '<a target=\"_blank\" href=https://colab.research.google.com/notebooks/data_table.ipynb>data table notebook</a>'\n",
              "          + ' to learn more about interactive tables.';\n",
              "        element.innerHTML = '';\n",
              "        dataTable['output_type'] = 'display_data';\n",
              "        await google.colab.output.renderOutput(dataTable, element);\n",
              "        const docLink = document.createElement('div');\n",
              "        docLink.innerHTML = docLinkHtml;\n",
              "        element.appendChild(docLink);\n",
              "      }\n",
              "    </script>\n",
              "  </div>\n",
              "\n",
              "\n",
              "<div id=\"df-d94cb31c-2e1f-40c8-be5b-883159fcb4bf\">\n",
              "  <button class=\"colab-df-quickchart\" onclick=\"quickchart('df-d94cb31c-2e1f-40c8-be5b-883159fcb4bf')\"\n",
              "            title=\"Suggest charts\"\n",
              "            style=\"display:none;\">\n",
              "\n",
              "<svg xmlns=\"http://www.w3.org/2000/svg\" height=\"24px\"viewBox=\"0 0 24 24\"\n",
              "     width=\"24px\">\n",
              "    <g>\n",
              "        <path d=\"M19 3H5c-1.1 0-2 .9-2 2v14c0 1.1.9 2 2 2h14c1.1 0 2-.9 2-2V5c0-1.1-.9-2-2-2zM9 17H7v-7h2v7zm4 0h-2V7h2v10zm4 0h-2v-4h2v4z\"/>\n",
              "    </g>\n",
              "</svg>\n",
              "  </button>\n",
              "\n",
              "<style>\n",
              "  .colab-df-quickchart {\n",
              "      --bg-color: #E8F0FE;\n",
              "      --fill-color: #1967D2;\n",
              "      --hover-bg-color: #E2EBFA;\n",
              "      --hover-fill-color: #174EA6;\n",
              "      --disabled-fill-color: #AAA;\n",
              "      --disabled-bg-color: #DDD;\n",
              "  }\n",
              "\n",
              "  [theme=dark] .colab-df-quickchart {\n",
              "      --bg-color: #3B4455;\n",
              "      --fill-color: #D2E3FC;\n",
              "      --hover-bg-color: #434B5C;\n",
              "      --hover-fill-color: #FFFFFF;\n",
              "      --disabled-bg-color: #3B4455;\n",
              "      --disabled-fill-color: #666;\n",
              "  }\n",
              "\n",
              "  .colab-df-quickchart {\n",
              "    background-color: var(--bg-color);\n",
              "    border: none;\n",
              "    border-radius: 50%;\n",
              "    cursor: pointer;\n",
              "    display: none;\n",
              "    fill: var(--fill-color);\n",
              "    height: 32px;\n",
              "    padding: 0;\n",
              "    width: 32px;\n",
              "  }\n",
              "\n",
              "  .colab-df-quickchart:hover {\n",
              "    background-color: var(--hover-bg-color);\n",
              "    box-shadow: 0 1px 2px rgba(60, 64, 67, 0.3), 0 1px 3px 1px rgba(60, 64, 67, 0.15);\n",
              "    fill: var(--button-hover-fill-color);\n",
              "  }\n",
              "\n",
              "  .colab-df-quickchart-complete:disabled,\n",
              "  .colab-df-quickchart-complete:disabled:hover {\n",
              "    background-color: var(--disabled-bg-color);\n",
              "    fill: var(--disabled-fill-color);\n",
              "    box-shadow: none;\n",
              "  }\n",
              "\n",
              "  .colab-df-spinner {\n",
              "    border: 2px solid var(--fill-color);\n",
              "    border-color: transparent;\n",
              "    border-bottom-color: var(--fill-color);\n",
              "    animation:\n",
              "      spin 1s steps(1) infinite;\n",
              "  }\n",
              "\n",
              "  @keyframes spin {\n",
              "    0% {\n",
              "      border-color: transparent;\n",
              "      border-bottom-color: var(--fill-color);\n",
              "      border-left-color: var(--fill-color);\n",
              "    }\n",
              "    20% {\n",
              "      border-color: transparent;\n",
              "      border-left-color: var(--fill-color);\n",
              "      border-top-color: var(--fill-color);\n",
              "    }\n",
              "    30% {\n",
              "      border-color: transparent;\n",
              "      border-left-color: var(--fill-color);\n",
              "      border-top-color: var(--fill-color);\n",
              "      border-right-color: var(--fill-color);\n",
              "    }\n",
              "    40% {\n",
              "      border-color: transparent;\n",
              "      border-right-color: var(--fill-color);\n",
              "      border-top-color: var(--fill-color);\n",
              "    }\n",
              "    60% {\n",
              "      border-color: transparent;\n",
              "      border-right-color: var(--fill-color);\n",
              "    }\n",
              "    80% {\n",
              "      border-color: transparent;\n",
              "      border-right-color: var(--fill-color);\n",
              "      border-bottom-color: var(--fill-color);\n",
              "    }\n",
              "    90% {\n",
              "      border-color: transparent;\n",
              "      border-bottom-color: var(--fill-color);\n",
              "    }\n",
              "  }\n",
              "</style>\n",
              "\n",
              "  <script>\n",
              "    async function quickchart(key) {\n",
              "      const quickchartButtonEl =\n",
              "        document.querySelector('#' + key + ' button');\n",
              "      quickchartButtonEl.disabled = true;  // To prevent multiple clicks.\n",
              "      quickchartButtonEl.classList.add('colab-df-spinner');\n",
              "      try {\n",
              "        const charts = await google.colab.kernel.invokeFunction(\n",
              "            'suggestCharts', [key], {});\n",
              "      } catch (error) {\n",
              "        console.error('Error during call to suggestCharts:', error);\n",
              "      }\n",
              "      quickchartButtonEl.classList.remove('colab-df-spinner');\n",
              "      quickchartButtonEl.classList.add('colab-df-quickchart-complete');\n",
              "    }\n",
              "    (() => {\n",
              "      let quickchartButtonEl =\n",
              "        document.querySelector('#df-d94cb31c-2e1f-40c8-be5b-883159fcb4bf button');\n",
              "      quickchartButtonEl.style.display =\n",
              "        google.colab.kernel.accessAllowed ? 'block' : 'none';\n",
              "    })();\n",
              "  </script>\n",
              "</div>\n",
              "\n",
              "    </div>\n",
              "  </div>\n"
            ],
            "application/vnd.google.colaboratory.intrinsic+json": {
              "type": "dataframe",
              "variable_name": "data",
              "summary": "{\n  \"name\": \"data\",\n  \"rows\": 370,\n  \"fields\": [\n    {\n      \"column\": \"T\",\n      \"properties\": {\n        \"dtype\": \"number\",\n        \"std\": 7.251604709153303,\n        \"min\": 6.7,\n        \"max\": 37.7,\n        \"num_unique_values\": 123,\n        \"samples\": [\n          14.7,\n          29.5,\n          31.1\n        ],\n        \"semantic_type\": \"\",\n        \"description\": \"\"\n      }\n    },\n    {\n      \"column\": \"TM\",\n      \"properties\": {\n        \"dtype\": \"number\",\n        \"std\": 6.9746416205013775,\n        \"min\": 9.8,\n        \"max\": 45.1,\n        \"num_unique_values\": 125,\n        \"samples\": [\n          25.4,\n          37.5,\n          34.3\n        ],\n        \"semantic_type\": \"\",\n        \"description\": \"\"\n      }\n    },\n    {\n      \"column\": \"Tm\",\n      \"properties\": {\n        \"dtype\": \"number\",\n        \"std\": 7.5756900225952295,\n        \"min\": 2.4,\n        \"max\": 30.5,\n        \"num_unique_values\": 125,\n        \"samples\": [\n          8.4,\n          17.8,\n          18.1\n        ],\n        \"semantic_type\": \"\",\n        \"description\": \"\"\n      }\n    },\n    {\n      \"column\": \"SLP\",\n      \"properties\": {\n        \"dtype\": \"number\",\n        \"std\": 7.61741067282065,\n        \"min\": 995.0,\n        \"max\": 1021.2,\n        \"num_unique_values\": 124,\n        \"samples\": [\n          1018.4,\n          1005.6,\n          1008.6\n        ],\n        \"semantic_type\": \"\",\n        \"description\": \"\"\n      }\n    },\n    {\n      \"column\": \"H\",\n      \"properties\": {\n        \"dtype\": \"number\",\n        \"std\": 87.22725704324144,\n        \"min\": -1096.7,\n        \"max\": 95.0,\n        \"num_unique_values\": 60,\n        \"samples\": [\n          93.0,\n          79.0,\n          45.0\n        ],\n        \"semantic_type\": \"\",\n        \"description\": \"\"\n      }\n    },\n    {\n      \"column\": \"VV\",\n      \"properties\": {\n        \"dtype\": \"number\",\n        \"std\": 0.5438481937216822,\n        \"min\": 0.5,\n        \"max\": 3.1,\n        \"num_unique_values\": 16,\n        \"samples\": [\n          0.5,\n          0.6,\n          1.1\n        ],\n        \"semantic_type\": \"\",\n        \"description\": \"\"\n      }\n    },\n    {\n      \"column\": \"V\",\n      \"properties\": {\n        \"dtype\": \"number\",\n        \"std\": 4.029240363684342,\n        \"min\": 0.4,\n        \"max\": 24.4,\n        \"num_unique_values\": 74,\n        \"samples\": [\n          8.7,\n          15.4,\n          9.3\n        ],\n        \"semantic_type\": \"\",\n        \"description\": \"\"\n      }\n    },\n    {\n      \"column\": \"VM\",\n      \"properties\": {\n        \"dtype\": \"number\",\n        \"std\": 7.527838385871957,\n        \"min\": 3.5,\n        \"max\": 55.4,\n        \"num_unique_values\": 19,\n        \"samples\": [\n          9.4,\n          3.5,\n          25.9\n        ],\n        \"semantic_type\": \"\",\n        \"description\": \"\"\n      }\n    },\n    {\n      \"column\": \"PM 2.5\",\n      \"properties\": {\n        \"dtype\": \"number\",\n        \"std\": 79.46214314850569,\n        \"min\": 0.0,\n        \"max\": 332.7083333,\n        \"num_unique_values\": 174,\n        \"samples\": [\n          130.7083333,\n          149.625,\n          38.25\n        ],\n        \"semantic_type\": \"\",\n        \"description\": \"\"\n      }\n    }\n  ]\n}"
            }
          },
          "metadata": {},
          "execution_count": 4
        }
      ]
    },
    {
      "cell_type": "code",
      "source": [
        "# prompt: Using dataframe data: find the mean value for PM by taking only integers and neglect the non integers and  print themean\n",
        "\n",
        "import pandas as pd\n",
        "import numpy as np\n",
        "\n",
        "# Assuming your dataframe is named 'data'\n",
        "\n",
        "# Extract the 'PM 2.5' column\n",
        "pm_data = data['PM 2.5']\n",
        "\n",
        "# Convert the column to numeric, coercing errors to NaN\n",
        "pm_data = pd.to_numeric(pm_data, errors='coerce')\n",
        "\n",
        "# Filter out non-integer values and NaN values\n",
        "integer_pm_data = pm_data[pm_data.apply(lambda x: x == int(x) if pd.notna(x) else False)]\n",
        "\n",
        "# Calculate the mean of the remaining integer values\n",
        "mean_pm = np.mean(integer_pm_data)\n",
        "\n",
        "# Print the mean\n",
        "mean_pm\n"
      ],
      "metadata": {
        "colab": {
          "base_uri": "https://localhost:8080/"
        },
        "id": "sAFREbl_I0bN",
        "outputId": "add6c657-3251-4b6d-a1f9-7f22dac0a058"
      },
      "execution_count": 6,
      "outputs": [
        {
          "output_type": "execute_result",
          "data": {
            "text/plain": [
              "82.3076923076923"
            ]
          },
          "metadata": {},
          "execution_count": 6
        }
      ]
    },
    {
      "cell_type": "code",
      "source": [
        "# prompt: replace the mean value for non integer values in PM\n",
        "\n",
        "# Assuming your dataframe is named 'data'\n",
        "\n",
        "# Extract the 'PM 2.5' column\n",
        "pm_data = data['PM 2.5']\n",
        "\n",
        "# Convert the column to numeric, coercing errors to NaN\n",
        "pm_data = pd.to_numeric(pm_data, errors='coerce')\n",
        "\n",
        "# Calculate the mean of the integer values, ignoring NaNs\n",
        "mean_pm = np.nanmean(pm_data[pm_data.apply(lambda x: isinstance(x, (int, np.integer)) if pd.notna(x) else False)])\n",
        "\n",
        "# Replace non-integer values with the mean\n",
        "data['PM 2.5'] = data['PM 2.5'].apply(lambda x: mean_pm if not isinstance(x, (int, np.integer)) or pd.isna(x) else x)"
      ],
      "metadata": {
        "colab": {
          "base_uri": "https://localhost:8080/"
        },
        "id": "apkNd1crJSjz",
        "outputId": "7876f0c5-046a-4f48-8289-7396da35a600"
      },
      "execution_count": 7,
      "outputs": [
        {
          "output_type": "stream",
          "name": "stderr",
          "text": [
            "<ipython-input-7-f736a47df4b8>:12: RuntimeWarning: Mean of empty slice\n",
            "  mean_pm = np.nanmean(pm_data[pm_data.apply(lambda x: isinstance(x, (int, np.integer)) if pd.notna(x) else False)])\n"
          ]
        }
      ]
    },
    {
      "cell_type": "code",
      "source": [
        "print(data['PM 2.5'])"
      ],
      "metadata": {
        "colab": {
          "base_uri": "https://localhost:8080/"
        },
        "id": "tn4RYw-1Jhgr",
        "outputId": "81b7c676-8590-4796-cc2c-d5764d16617c"
      },
      "execution_count": 8,
      "outputs": [
        {
          "output_type": "stream",
          "name": "stdout",
          "text": [
            "0     NaN\n",
            "1     NaN\n",
            "2     NaN\n",
            "3     NaN\n",
            "4     NaN\n",
            "       ..\n",
            "365   NaN\n",
            "366   NaN\n",
            "367   NaN\n",
            "368   NaN\n",
            "369   NaN\n",
            "Name: PM 2.5, Length: 370, dtype: float64\n"
          ]
        }
      ]
    },
    {
      "cell_type": "code",
      "source": [
        "# prompt: replace NaN with 82.3076923076923\n",
        "\n",
        "import pandas as pd\n",
        "import numpy as np\n",
        "\n",
        "data = pd.read_csv('/content/real_2013_air.csv')\n",
        "\n",
        "# Replace NaN values with 82.3076923076923 in the 'PM 2.5' column\n",
        "data['PM 2.5'].fillna(82.3076923076923, inplace=True)\n",
        "\n",
        "print(data['PM 2.5'])"
      ],
      "metadata": {
        "colab": {
          "base_uri": "https://localhost:8080/"
        },
        "id": "WD2AetWxJ7UZ",
        "outputId": "5e08329f-040b-4c21-f62b-058b344a94b7"
      },
      "execution_count": 11,
      "outputs": [
        {
          "output_type": "stream",
          "name": "stdout",
          "text": [
            "0       82.307692\n",
            "1      219.720833\n",
            "2       82.307692\n",
            "3      182.187500\n",
            "4       82.307692\n",
            "          ...    \n",
            "365    169.000000\n",
            "366     82.307692\n",
            "367    186.041667\n",
            "368     82.307692\n",
            "369     82.307692\n",
            "Name: PM 2.5, Length: 370, dtype: float64\n"
          ]
        },
        {
          "output_type": "stream",
          "name": "stderr",
          "text": [
            "<ipython-input-11-8433503aee67>:9: FutureWarning: A value is trying to be set on a copy of a DataFrame or Series through chained assignment using an inplace method.\n",
            "The behavior will change in pandas 3.0. This inplace method will never work because the intermediate object on which we are setting values always behaves as a copy.\n",
            "\n",
            "For example, when doing 'df[col].method(value, inplace=True)', try using 'df.method({col: value}, inplace=True)' or df[col] = df[col].method(value) instead, to perform the operation inplace on the original object.\n",
            "\n",
            "\n",
            "  data['PM 2.5'].fillna(82.3076923076923, inplace=True)\n"
          ]
        }
      ]
    },
    {
      "cell_type": "code",
      "source": [
        "print(data['PM 2.5'])"
      ],
      "metadata": {
        "colab": {
          "base_uri": "https://localhost:8080/"
        },
        "id": "0oj54YTdKBXh",
        "outputId": "c2eb858e-7c93-4079-c41e-ca83eb940dc0"
      },
      "execution_count": 12,
      "outputs": [
        {
          "output_type": "stream",
          "name": "stdout",
          "text": [
            "0       82.307692\n",
            "1      219.720833\n",
            "2       82.307692\n",
            "3      182.187500\n",
            "4       82.307692\n",
            "          ...    \n",
            "365    169.000000\n",
            "366     82.307692\n",
            "367    186.041667\n",
            "368     82.307692\n",
            "369     82.307692\n",
            "Name: PM 2.5, Length: 370, dtype: float64\n"
          ]
        }
      ]
    },
    {
      "cell_type": "code",
      "source": [
        "# prompt: convert into box plot\n",
        "\n",
        "import pandas as pd\n",
        "import matplotlib.pyplot as plt\n",
        "\n",
        "# Assuming your dataframe is named 'data' and the 'PM 2.5' column is already cleaned\n",
        "data = pd.read_csv('/content/real_2013_air.csv')\n",
        "\n",
        "# Replace NaN values with 82.3076923076923 in the 'PM 2.5' column\n",
        "data['PM 2.5'].fillna(82.3076923076923, inplace=True)\n",
        "\n",
        "# Create the box plot\n",
        "plt.figure(figsize=(8, 6))  # Adjust figure size if needed\n",
        "plt.boxplot(data['PM 2.5'], vert=False)  # vert=False creates a horizontal boxplot\n",
        "plt.xlabel('PM 2.5')\n",
        "plt.title('Box Plot of PM 2.5')\n",
        "plt.show()"
      ],
      "metadata": {
        "colab": {
          "base_uri": "https://localhost:8080/",
          "height": 706
        },
        "id": "9UZ90BxZKagx",
        "outputId": "b3486756-ab5f-4f20-bd52-962ba04213ba"
      },
      "execution_count": 13,
      "outputs": [
        {
          "output_type": "stream",
          "name": "stderr",
          "text": [
            "<ipython-input-13-9f7655230c8e>:10: FutureWarning: A value is trying to be set on a copy of a DataFrame or Series through chained assignment using an inplace method.\n",
            "The behavior will change in pandas 3.0. This inplace method will never work because the intermediate object on which we are setting values always behaves as a copy.\n",
            "\n",
            "For example, when doing 'df[col].method(value, inplace=True)', try using 'df.method({col: value}, inplace=True)' or df[col] = df[col].method(value) instead, to perform the operation inplace on the original object.\n",
            "\n",
            "\n",
            "  data['PM 2.5'].fillna(82.3076923076923, inplace=True)\n"
          ]
        },
        {
          "output_type": "display_data",
          "data": {
            "text/plain": [
              "<Figure size 800x600 with 1 Axes>"
            ],
            "image/png": "[encoded data removed]"
          },
          "metadata": {}
        }
      ]
    },
    {
      "cell_type": "code",
      "source": [
        "# prompt: find the median value for PM by taking only integers and neglect the non integers and  print the median\n",
        "\n",
        "import pandas as pd\n",
        "import numpy as np\n",
        "\n",
        "data = pd.read_csv('/content/real_2013_air.csv')\n",
        "\n",
        "# Extract the 'PM 2.5' column\n",
        "pm_data = data['PM 2.5']\n",
        "\n",
        "# Convert the column to numeric, coercing errors to NaN\n",
        "pm_data = pd.to_numeric(pm_data, errors='coerce')\n",
        "\n",
        "# Filter out non-integer values and NaN values\n",
        "integer_pm_data = pm_data[pm_data.apply(lambda x: x == int(x) if pd.notna(x) else False)]\n",
        "\n",
        "# Calculate the median of the remaining integer values\n",
        "median_pm = np.median(integer_pm_data)\n",
        "\n",
        "# Print the median\n",
        "median_pm"
      ],
      "metadata": {
        "colab": {
          "base_uri": "https://localhost:8080/"
        },
        "id": "vNpSgJ-CKwQq",
        "outputId": "0620fa39-aa21-4b0f-eaab-44dfe16acccc"
      },
      "execution_count": 14,
      "outputs": [
        {
          "output_type": "execute_result",
          "data": {
            "text/plain": [
              "77.0"
            ]
          },
          "metadata": {},
          "execution_count": 14
        }
      ]
    },
    {
      "cell_type": "code",
      "source": [
        "# prompt: replace the median value for non integer values in PM\n",
        "\n",
        "import pandas as pd\n",
        "import numpy as np\n",
        "\n",
        "data = pd.read_csv('/content/real_2013_air.csv')\n",
        "\n",
        "# Extract the 'PM 2.5' column\n",
        "pm_data = data['PM 2.5']\n",
        "\n",
        "# Convert the column to numeric, coercing errors to NaN\n",
        "pm_data = pd.to_numeric(pm_data, errors='coerce')\n",
        "\n",
        "# Filter out non-integer values and NaN values\n",
        "integer_pm_data = pm_data[pm_data.apply(lambda x: x == int(x) if pd.notna(x) else False)]\n",
        "\n",
        "# Calculate the median of the remaining integer values\n",
        "median_pm = np.median(integer_pm_data)\n",
        "\n",
        "# Replace non-integer values with the median\n",
        "data['PM 2.5'] = data['PM 2.5'].apply(lambda x: median_pm if not isinstance(x, (int, np.integer)) or pd.isna(x) else x)\n",
        "\n",
        "print(data['PM 2.5'])"
      ],
      "metadata": {
        "colab": {
          "base_uri": "https://localhost:8080/"
        },
        "id": "cNUftR7sLAdp",
        "outputId": "9afa54c5-892b-4d8a-acf9-0e4726ae03b7"
      },
      "execution_count": 15,
      "outputs": [
        {
          "output_type": "stream",
          "name": "stdout",
          "text": [
            "0      77.0\n",
            "1      77.0\n",
            "2      77.0\n",
            "3      77.0\n",
            "4      77.0\n",
            "       ... \n",
            "365    77.0\n",
            "366    77.0\n",
            "367    77.0\n",
            "368    77.0\n",
            "369    77.0\n",
            "Name: PM 2.5, Length: 370, dtype: float64\n"
          ]
        }
      ]
    },
    {
      "cell_type": "code",
      "source": [
        "# prompt: give box plot for the above\n",
        "\n",
        "import pandas as pd\n",
        "import matplotlib.pyplot as plt\n",
        "\n",
        "# Load the dataset\n",
        "data = pd.read_csv('/content/real_2013_air.csv')\n",
        "\n",
        "# Assuming 'PM 2.5' is the column you want to plot\n",
        "# Convert the 'PM 2.5' column to numeric, handling errors\n",
        "data['PM 2.5'] = pd.to_numeric(data['PM 2.5'], errors='coerce')\n",
        "\n",
        "# Fill NaN values with the median of the 'PM 2.5' column\n",
        "median_pm = data['PM 2.5'].median()\n",
        "data['PM 2.5'].fillna(median_pm, inplace=True)\n",
        "\n",
        "# Create the box plot\n",
        "plt.figure(figsize=(8, 6))\n",
        "plt.boxplot(data['PM 2.5'], vert=False)  # Horizontal box plot\n",
        "plt.xlabel('PM 2.5')\n",
        "plt.title('Box Plot of PM 2.5')\n",
        "plt.show()"
      ],
      "metadata": {
        "colab": {
          "base_uri": "https://localhost:8080/",
          "height": 706
        },
        "id": "Uv5ggQGNLJGg",
        "outputId": "b3baa0d6-0238-4338-f33b-0f7e1b69166a"
      },
      "execution_count": 16,
      "outputs": [
        {
          "output_type": "stream",
          "name": "stderr",
          "text": [
            "<ipython-input-16-8e4fd978a423>:15: FutureWarning: A value is trying to be set on a copy of a DataFrame or Series through chained assignment using an inplace method.\n",
            "The behavior will change in pandas 3.0. This inplace method will never work because the intermediate object on which we are setting values always behaves as a copy.\n",
            "\n",
            "For example, when doing 'df[col].method(value, inplace=True)', try using 'df.method({col: value}, inplace=True)' or df[col] = df[col].method(value) instead, to perform the operation inplace on the original object.\n",
            "\n",
            "\n",
            "  data['PM 2.5'].fillna(median_pm, inplace=True)\n"
          ]
        },
        {
          "output_type": "display_data",
          "data": {
            "text/plain": [
              "<Figure size 800x600 with 1 Axes>"
            ],
            "image/png": "[encoded data removed]"
          },
          "metadata": {}
        }
      ]
    },
    {
      "cell_type": "code",
      "source": [
        "# prompt: find the mode value for PM by taking only integers and neglect the non integers and  print the Mode\n",
        "\n",
        "import pandas as pd\n",
        "import numpy as np\n",
        "\n",
        "# Load the dataset\n",
        "data = pd.read_csv('/content/real_2013_air.csv')\n",
        "\n",
        "# Extract the 'PM 2.5' column\n",
        "pm_data = data['PM 2.5']\n",
        "\n",
        "# Convert the column to numeric, coercing errors to NaN\n",
        "pm_data = pd.to_numeric(pm_data, errors='coerce')\n",
        "\n",
        "# Filter out non-integer values and NaN values\n",
        "integer_pm_data = pm_data[pm_data.apply(lambda x: isinstance(x, (int, np.integer)) if pd.notna(x) else False)]\n",
        "\n",
        "# Calculate the mode of the integer values\n",
        "mode_pm = integer_pm_data.mode()\n",
        "\n",
        "# Print the mode\n",
        "mode_pm"
      ],
      "metadata": {
        "colab": {
          "base_uri": "https://localhost:8080/",
          "height": 84
        },
        "id": "xa-880CQLXAo",
        "outputId": "3465cf23-170e-4d0d-e3df-cb21a0b5bc3b"
      },
      "execution_count": 17,
      "outputs": [
        {
          "output_type": "execute_result",
          "data": {
            "text/plain": [
              "Series([], Name: PM 2.5, dtype: float64)"
            ],
            "text/html": [
              "<div>\n",
              "<style scoped>\n",
              "    .dataframe tbody tr th:only-of-type {\n",
              "        vertical-align: middle;\n",
              "    }\n",
              "\n",
              "    .dataframe tbody tr th {\n",
              "        vertical-align: top;\n",
              "    }\n",
              "\n",
              "    .dataframe thead th {\n",
              "        text-align: right;\n",
              "    }\n",
              "</style>\n",
              "<table border=\"1\" class=\"dataframe\">\n",
              "  <thead>\n",
              "    <tr style=\"text-align: right;\">\n",
              "      <th></th>\n",
              "      <th>PM 2.5</th>\n",
              "    </tr>\n",
              "  </thead>\n",
              "  <tbody>\n",
              "  </tbody>\n",
              "</table>\n",
              "</div><br><label><b>dtype:</b> float64</label>"
            ]
          },
          "metadata": {},
          "execution_count": 17
        }
      ]
    },
    {
      "cell_type": "code",
      "source": [
        "# prompt: replace the mode value for non integer values in PM\n",
        "\n",
        "# Load the dataset\n",
        "data = pd.read_csv('/content/real_2013_air.csv')\n",
        "\n",
        "# Extract the 'PM 2.5' column\n",
        "pm_data = data['PM 2.5']\n",
        "\n",
        "# Convert the column to numeric, coercing errors to NaN\n",
        "pm_data = pd.to_numeric(pm_data, errors='coerce')\n",
        "\n",
        "# Filter out non-integer values and NaN values\n",
        "integer_pm_data = pm_data[pm_data.apply(lambda x: isinstance(x, (int, np.integer)) if pd.notna(x) else False)]\n",
        "\n",
        "# Calculate the mode of the integer values\n",
        "mode_pm = integer_pm_data.mode()\n",
        "\n",
        "# If there's a mode, use it; otherwise, use the median\n",
        "if not mode_pm.empty:\n",
        "    mode_pm = mode_pm[0]  # Get the first mode value\n",
        "else:\n",
        "    mode_pm = integer_pm_data.median()\n",
        "\n",
        "\n",
        "# Replace non-integer or NaN values with the mode\n",
        "data['PM 2.5'] = data['PM 2.5'].apply(lambda x: mode_pm if not isinstance(x, (int, np.integer)) or pd.isna(x) else x)\n",
        "\n",
        "print(data['PM 2.5'])"
      ],
      "metadata": {
        "colab": {
          "base_uri": "https://localhost:8080/"
        },
        "id": "k1MHHKWDLfGH",
        "outputId": "e36d438d-3a73-4083-aadd-ab31dd39dedd"
      },
      "execution_count": 18,
      "outputs": [
        {
          "output_type": "stream",
          "name": "stdout",
          "text": [
            "0     NaN\n",
            "1     NaN\n",
            "2     NaN\n",
            "3     NaN\n",
            "4     NaN\n",
            "       ..\n",
            "365   NaN\n",
            "366   NaN\n",
            "367   NaN\n",
            "368   NaN\n",
            "369   NaN\n",
            "Name: PM 2.5, Length: 370, dtype: float64\n"
          ]
        }
      ]
    },
    {
      "cell_type": "code",
      "source": [
        "# prompt: find a median for H by neglecting non integers\n",
        "\n",
        "import pandas as pd\n",
        "import numpy as np\n",
        "\n",
        "# Load the dataset\n",
        "data = pd.read_csv('/content/real_2013_air.csv')\n",
        "\n",
        "# Extract the 'PM 2.5' column\n",
        "pm_data = data['H']\n",
        "\n",
        "# Convert the column to numeric, coercing errors to NaN\n",
        "pm_data = pd.to_numeric(pm_data, errors='coerce')\n",
        "\n",
        "# Filter out non-integer values and NaN values\n",
        "integer_pm_data = pm_data[pm_data.apply(lambda x: x == int(x) if pd.notna(x) else False)]\n",
        "\n",
        "# Calculate the median of the remaining integer values\n",
        "median_pm = np.median(integer_pm_data)\n",
        "\n",
        "# Print the median\n",
        "median_pm"
      ],
      "metadata": {
        "colab": {
          "base_uri": "https://localhost:8080/"
        },
        "id": "a9FHfMfUL1Qo",
        "outputId": "9e396827-e3ca-4cab-a560-470cbe80ecb1"
      },
      "execution_count": 20,
      "outputs": [
        {
          "output_type": "execute_result",
          "data": {
            "text/plain": [
              "69.0"
            ]
          },
          "metadata": {},
          "execution_count": 20
        }
      ]
    },
    {
      "cell_type": "code",
      "source": [
        "# prompt: replace the Nan Values with 69.0\n",
        "\n",
        "# Load the dataset\n",
        "data = pd.read_csv('/content/real_2013_air.csv')\n",
        "\n",
        "# Replace NaN values with 69.0 in the 'PM 2.5' column\n",
        "data['H'].fillna(69.0, inplace=True)\n",
        "\n",
        "print(data['H'])"
      ],
      "metadata": {
        "colab": {
          "base_uri": "https://localhost:8080/"
        },
        "id": "AQnoG1kTMC8f",
        "outputId": "bf3c448c-ed4c-4f82-9f7d-d7858919cfbe"
      },
      "execution_count": 22,
      "outputs": [
        {
          "output_type": "stream",
          "name": "stdout",
          "text": [
            "0      69.0\n",
            "1      93.0\n",
            "2      69.0\n",
            "3      87.0\n",
            "4      69.0\n",
            "       ... \n",
            "365    71.0\n",
            "366    69.0\n",
            "367    84.0\n",
            "368    69.0\n",
            "369    91.0\n",
            "Name: H, Length: 370, dtype: float64\n"
          ]
        },
        {
          "output_type": "stream",
          "name": "stderr",
          "text": [
            "<ipython-input-22-7ebf8718ecfc>:7: FutureWarning: A value is trying to be set on a copy of a DataFrame or Series through chained assignment using an inplace method.\n",
            "The behavior will change in pandas 3.0. This inplace method will never work because the intermediate object on which we are setting values always behaves as a copy.\n",
            "\n",
            "For example, when doing 'df[col].method(value, inplace=True)', try using 'df.method({col: value}, inplace=True)' or df[col] = df[col].method(value) instead, to perform the operation inplace on the original object.\n",
            "\n",
            "\n",
            "  data['H'].fillna(69.0, inplace=True)\n"
          ]
        }
      ]
    },
    {
      "cell_type": "code",
      "source": [
        "# prompt: convert into box plot\n",
        "\n",
        "import pandas as pd\n",
        "import matplotlib.pyplot as plt\n",
        "\n",
        "# Load the dataset\n",
        "data = pd.read_csv('/content/real_2013_air.csv')\n",
        "\n",
        "# Assuming 'H' is the column you want to plot\n",
        "# Convert the 'H' column to numeric, handling errors\n",
        "data['H'] = pd.to_numeric(data['H'], errors='coerce')\n",
        "\n",
        "# Fill NaN values with the median of the 'H' column\n",
        "median_h = data['H'].median()\n",
        "data['H'].fillna(median_h, inplace=True)\n",
        "\n",
        "# Create the box plot\n",
        "plt.figure(figsize=(8, 6))\n",
        "plt.boxplot(data['H'], vert=False)  # Horizontal box plot\n",
        "plt.xlabel('H')\n",
        "plt.title('Box Plot of H')\n",
        "plt.show()"
      ],
      "metadata": {
        "colab": {
          "base_uri": "https://localhost:8080/",
          "height": 706
        },
        "id": "fcr0hoE_M-hW",
        "outputId": "5318df3b-e635-4da7-b9f1-502f6681b7b5"
      },
      "execution_count": 29,
      "outputs": [
        {
          "output_type": "stream",
          "name": "stderr",
          "text": [
            "<ipython-input-29-acce83961516>:15: FutureWarning: A value is trying to be set on a copy of a DataFrame or Series through chained assignment using an inplace method.\n",
            "The behavior will change in pandas 3.0. This inplace method will never work because the intermediate object on which we are setting values always behaves as a copy.\n",
            "\n",
            "For example, when doing 'df[col].method(value, inplace=True)', try using 'df.method({col: value}, inplace=True)' or df[col] = df[col].method(value) instead, to perform the operation inplace on the original object.\n",
            "\n",
            "\n",
            "  data['H'].fillna(median_h, inplace=True)\n"
          ]
        },
        {
          "output_type": "display_data",
          "data": {
            "text/plain": [
              "<Figure size 800x600 with 1 Axes>"
            ],
            "image/png": "[encoded data removed]"
          },
          "metadata": {}
        }
      ]
    },
    {
      "cell_type": "code",
      "source": [
        "# prompt: find mode for Vv by neglecting non integers and consider only integer values\n",
        "\n",
        "import pandas as pd\n",
        "import numpy as np\n",
        "\n",
        "# Load the dataset\n",
        "data = pd.read_csv('/content/real_2013_air.csv')\n",
        "\n",
        "# Extract the 'Vv' column\n",
        "vv_data = data['VV']\n",
        "\n",
        "# Convert the column to numeric, coercing errors to NaN\n",
        "vv_data = pd.to_numeric(vv_data, errors='coerce')\n",
        "\n",
        "# Filter out non-integer values and NaN values\n",
        "integer_vv_data = vv_data[vv_data.apply(lambda x: isinstance(x, (int, np.integer)) if pd.notna(x) else False)]\n",
        "\n",
        "# Calculate the mode of the integer values\n",
        "mode_vv = integer_vv_data.mode()\n",
        "\n",
        "# Print the mode\n",
        "mode_vv"
      ],
      "metadata": {
        "colab": {
          "base_uri": "https://localhost:8080/",
          "height": 84
        },
        "id": "9PhJSDLZMM-P",
        "outputId": "8ff97f7a-9bee-474e-b73b-937b5a4f32a0"
      },
      "execution_count": 25,
      "outputs": [
        {
          "output_type": "execute_result",
          "data": {
            "text/plain": [
              "Series([], Name: VV, dtype: float64)"
            ],
            "text/html": [
              "<div>\n",
              "<style scoped>\n",
              "    .dataframe tbody tr th:only-of-type {\n",
              "        vertical-align: middle;\n",
              "    }\n",
              "\n",
              "    .dataframe tbody tr th {\n",
              "        vertical-align: top;\n",
              "    }\n",
              "\n",
              "    .dataframe thead th {\n",
              "        text-align: right;\n",
              "    }\n",
              "</style>\n",
              "<table border=\"1\" class=\"dataframe\">\n",
              "  <thead>\n",
              "    <tr style=\"text-align: right;\">\n",
              "      <th></th>\n",
              "      <th>VV</th>\n",
              "    </tr>\n",
              "  </thead>\n",
              "  <tbody>\n",
              "  </tbody>\n",
              "</table>\n",
              "</div><br><label><b>dtype:</b> float64</label>"
            ]
          },
          "metadata": {},
          "execution_count": 25
        }
      ]
    },
    {
      "cell_type": "code",
      "source": [
        "# prompt: replace NaN with 64\n",
        "\n",
        "import pandas as pd\n",
        "import numpy as np\n",
        "\n",
        "# Load the dataset\n",
        "data = pd.read_csv('/content/real_2013_air.csv')\n",
        "\n",
        "# Replace NaN values with 64 in the specified column (e.g., 'PM 2.5')\n",
        "data['VV'].fillna(64, inplace=True)\n",
        "\n",
        "print(data['VV'])"
      ],
      "metadata": {
        "colab": {
          "base_uri": "https://localhost:8080/"
        },
        "id": "XkXqlC_fMgon",
        "outputId": "8e7910ad-92c8-4f6a-8270-0e3a9789d210"
      },
      "execution_count": 27,
      "outputs": [
        {
          "output_type": "stream",
          "name": "stdout",
          "text": [
            "0      64.0\n",
            "1       0.5\n",
            "2      64.0\n",
            "3       0.6\n",
            "4      64.0\n",
            "       ... \n",
            "365     1.3\n",
            "366    64.0\n",
            "367     1.1\n",
            "368    64.0\n",
            "369     1.6\n",
            "Name: VV, Length: 370, dtype: float64\n"
          ]
        },
        {
          "output_type": "stream",
          "name": "stderr",
          "text": [
            "<ipython-input-27-d2818309a819>:10: FutureWarning: A value is trying to be set on a copy of a DataFrame or Series through chained assignment using an inplace method.\n",
            "The behavior will change in pandas 3.0. This inplace method will never work because the intermediate object on which we are setting values always behaves as a copy.\n",
            "\n",
            "For example, when doing 'df[col].method(value, inplace=True)', try using 'df.method({col: value}, inplace=True)' or df[col] = df[col].method(value) instead, to perform the operation inplace on the original object.\n",
            "\n",
            "\n",
            "  data['VV'].fillna(64, inplace=True)\n"
          ]
        }
      ]
    },
    {
      "cell_type": "code",
      "source": [
        "# prompt: convert into box plot\n",
        "\n",
        "import pandas as pd\n",
        "import matplotlib.pyplot as plt\n",
        "\n",
        "# Load the dataset\n",
        "data = pd.read_csv('/content/real_2013_air.csv')\n",
        "\n",
        "# Assuming 'PM 2.5' is the column you want to plot\n",
        "# Convert the 'PM 2.5' column to numeric, handling errors\n",
        "data['PM 2.5'] = pd.to_numeric(data['PM 2.5'], errors='coerce')\n",
        "\n",
        "# Fill NaN values with the median of the 'PM 2.5' column\n",
        "median_pm = data['PM 2.5'].median()\n",
        "data['PM 2.5'].fillna(median_pm, inplace=True)\n",
        "\n",
        "# Create the box plot\n",
        "plt.figure(figsize=(8, 6))\n",
        "plt.boxplot(data['PM 2.5'], vert=False)  # Horizontal box plot\n",
        "plt.xlabel('PM 2.5')\n",
        "plt.title('Box Plot of PM 2.5')\n",
        "plt.show()"
      ],
      "metadata": {
        "colab": {
          "base_uri": "https://localhost:8080/",
          "height": 706
        },
        "id": "bT0qitHSM1PW",
        "outputId": "e3f2a84a-6001-484f-a675-e5ac264e32bc"
      },
      "execution_count": 28,
      "outputs": [
        {
          "output_type": "stream",
          "name": "stderr",
          "text": [
            "<ipython-input-28-0efb908bb7b7>:15: FutureWarning: A value is trying to be set on a copy of a DataFrame or Series through chained assignment using an inplace method.\n",
            "The behavior will change in pandas 3.0. This inplace method will never work because the intermediate object on which we are setting values always behaves as a copy.\n",
            "\n",
            "For example, when doing 'df[col].method(value, inplace=True)', try using 'df.method({col: value}, inplace=True)' or df[col] = df[col].method(value) instead, to perform the operation inplace on the original object.\n",
            "\n",
            "\n",
            "  data['PM 2.5'].fillna(median_pm, inplace=True)\n"
          ]
        },
        {
          "output_type": "display_data",
          "data": {
            "text/plain": [
              "<Figure size 800x600 with 1 Axes>"
            ],
            "image/png": "[encoded data removed]"
          },
          "metadata": {}
        }
      ]
    }
  ]
}
